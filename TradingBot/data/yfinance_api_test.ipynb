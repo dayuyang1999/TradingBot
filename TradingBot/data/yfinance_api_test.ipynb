{
 "cells": [
  {
   "cell_type": "code",
   "execution_count": 1,
   "metadata": {},
   "outputs": [],
   "source": [
    "import yfinance as yf\n",
    "import numpy as np\n",
    "import time\n",
    "from IPython.display import clear_output\n"
   ]
  },
  {
   "cell_type": "code",
   "execution_count": null,
   "metadata": {},
   "outputs": [],
   "source": []
  },
  {
   "cell_type": "code",
   "execution_count": 30,
   "metadata": {},
   "outputs": [],
   "source": [
    "def get_data(tiker='^IXIC', start=\"2022-05-05\", end=\"2022-05-06\", which='Close', interval='1m'):\n",
    "    '''\n",
    "    # Valid periods: 1d,5d,1mo,3mo,6mo,1y,2y,5y,10y,ytd,max\n",
    "    # Valid intervals: 1m,2m,5m,15m,30m,60m,90m,1h,1d,5d,1wk,1mo,3mo\n",
    "    # see https://github.com/ranaroussi/yfinance/blob/9eef951acc70121e65825ad25e7afd2edd4c3e4b/yfinance/multi.py\n",
    "    '''\n",
    "    def reformulate_date(df):\n",
    "        df.columns = df.columns.map(''.join)\n",
    "        df = df.rename_axis('Date').reset_index()\n",
    "        return df\n",
    "    data = yf.download(tickers = tiker, start=start, end=end, interval = interval, progress=False)\n",
    "    data['pct_change'] = data[which].pct_change()\n",
    "    data['log_ret'] = np.log(data[which]) - np.log(data[which].shift(1))\n",
    "    data = reformulate_date(data)\n",
    "    data = data[:-1]\n",
    "    #print(\"most recent date is \", data.iloc[-1, 0])\n",
    "    return data"
   ]
  },
  {
   "cell_type": "code",
   "execution_count": 31,
   "metadata": {},
   "outputs": [
    {
     "data": {
      "text/plain": [
       "Date          2022-07-15 15:58:00-04:00\n",
       "Open                       11437.861328\n",
       "High                       11443.597656\n",
       "Low                        11437.482422\n",
       "Close                      11443.597656\n",
       "Adj Close                  11443.597656\n",
       "Volume                         12170000\n",
       "pct_change                     0.000413\n",
       "log_ret                        0.000413\n",
       "Name: 388, dtype: object"
      ]
     },
     "execution_count": 31,
     "metadata": {},
     "output_type": "execute_result"
    }
   ],
   "source": [
    "start_date = '2022-07-15'\n",
    "end_date = '2022-07-18'\n",
    "df = get_data(start=start_date, end=end_date, interval='1m')\n",
    "df.iloc[-1, :]\n"
   ]
  },
  {
   "cell_type": "code",
   "execution_count": 2,
   "metadata": {},
   "outputs": [],
   "source": [
    "def get_data(tiker='^IXIC', start=\"2022-05-05\", which='Close', interval='1m'):\n",
    "    '''\n",
    "    # Valid periods: 1d,5d,1mo,3mo,6mo,1y,2y,5y,10y,ytd,max\n",
    "    # Valid intervals: 1m,2m,5m,15m,30m,60m,90m,1h,1d,5d,1wk,1mo,3mo\n",
    "    # see https://github.com/ranaroussi/yfinance/blob/9eef951acc70121e65825ad25e7afd2edd4c3e4b/yfinance/multi.py\n",
    "    '''\n",
    "    def reformulate_date(df):\n",
    "        df.columns = df.columns.map(''.join)\n",
    "        df = df.rename_axis('Date').reset_index()\n",
    "        return df\n",
    "    data = yf.download(tickers = tiker, start=start, interval = interval, progress=False)\n",
    "    #data['pct_change'] = data[which].pct_change()\n",
    "    #data['log_ret'] = np.log(data[which]) - np.log(data[which].shift(1))\n",
    "    data = reformulate_date(data)\n",
    "    #print(\"most recent date is \", data.iloc[-1, 0])\n",
    "    return data"
   ]
  },
  {
   "cell_type": "code",
   "execution_count": 6,
   "metadata": {},
   "outputs": [
    {
     "name": "stdout",
     "output_type": "stream",
     "text": [
      "2022-07-20 11:05:48-04:00\n"
     ]
    }
   ],
   "source": []
  },
  {
   "cell_type": "code",
   "execution_count": 13,
   "metadata": {},
   "outputs": [
    {
     "name": "stdout",
     "output_type": "stream",
     "text": [
      "latest data point: 2022-07-20 11:59:15-04:00 price =  11922.46484375\n",
      "141   2022-07-20 10:30:00-04:00\n",
      "142   2022-07-20 11:30:00-04:00\n",
      "143   2022-07-20 11:59:15-04:00\n",
      "Name: Date, dtype: datetime64[ns, America/New_York]\n",
      "141    11900.643555\n",
      "142    11922.356445\n",
      "143    11922.464844\n",
      "Name: Close, dtype: float64\n"
     ]
    },
    {
     "ename": "KeyboardInterrupt",
     "evalue": "",
     "output_type": "error",
     "traceback": [
      "\u001b[0;31m---------------------------------------------------------------------------\u001b[0m",
      "\u001b[0;31mKeyboardInterrupt\u001b[0m                         Traceback (most recent call last)",
      "\u001b[0;32m/tmp/ipykernel_1904099/84784128.py\u001b[0m in \u001b[0;36m<module>\u001b[0;34m\u001b[0m\n\u001b[1;32m     10\u001b[0m     \u001b[0mprint\u001b[0m\u001b[0;34m(\u001b[0m\u001b[0mdf\u001b[0m\u001b[0;34m.\u001b[0m\u001b[0miloc\u001b[0m\u001b[0;34m[\u001b[0m\u001b[0;34m-\u001b[0m\u001b[0;36m3\u001b[0m\u001b[0;34m:\u001b[0m\u001b[0;34m,\u001b[0m \u001b[0;36m4\u001b[0m\u001b[0;34m]\u001b[0m\u001b[0;34m)\u001b[0m\u001b[0;34m\u001b[0m\u001b[0;34m\u001b[0m\u001b[0m\n\u001b[1;32m     11\u001b[0m \u001b[0;34m\u001b[0m\u001b[0m\n\u001b[0;32m---> 12\u001b[0;31m     \u001b[0mtime\u001b[0m\u001b[0;34m.\u001b[0m\u001b[0msleep\u001b[0m\u001b[0;34m(\u001b[0m\u001b[0;36m1\u001b[0m\u001b[0;34m)\u001b[0m\u001b[0;34m\u001b[0m\u001b[0;34m\u001b[0m\u001b[0m\n\u001b[0m",
      "\u001b[0;31mKeyboardInterrupt\u001b[0m: "
     ]
    }
   ],
   "source": [
    "# tested, for yfinance 2m, delay=5s\n",
    "\n",
    "while True:\n",
    "    start_date = '2022-06-20'\n",
    "    #end_date = '2022-07-18'\n",
    "    df = get_data(start=start_date, interval='1h')\n",
    "    clear_output(wait=True)\n",
    "    print('latest data point:', df.iloc[-1, 0], 'price = ', df.iloc[-1, 4])\n",
    "    print(df.iloc[-3:, 0])\n",
    "    print(df.iloc[-3:, 4])\n",
    "    \n",
    "    time.sleep(1)\n"
   ]
  },
  {
   "cell_type": "code",
   "execution_count": 23,
   "metadata": {},
   "outputs": [
    {
     "data": {
      "text/plain": [
       "True"
      ]
     },
     "execution_count": 23,
     "metadata": {},
     "output_type": "execute_result"
    }
   ],
   "source": [
    "df.iloc[-1, 0] > df.iloc[-2, 0]"
   ]
  },
  {
   "cell_type": "code",
   "execution_count": null,
   "metadata": {},
   "outputs": [],
   "source": []
  }
 ],
 "metadata": {
  "interpreter": {
   "hash": "d551d1557dc1b1b0c0ac1194b36d022bb0cb867148459cd490b02d8b5fe91186"
  },
  "kernelspec": {
   "display_name": "Python 3.9.7 ('base')",
   "language": "python",
   "name": "python3"
  },
  "language_info": {
   "codemirror_mode": {
    "name": "ipython",
    "version": 3
   },
   "file_extension": ".py",
   "mimetype": "text/x-python",
   "name": "python",
   "nbconvert_exporter": "python",
   "pygments_lexer": "ipython3",
   "version": "3.9.7"
  },
  "orig_nbformat": 4
 },
 "nbformat": 4,
 "nbformat_minor": 2
}
