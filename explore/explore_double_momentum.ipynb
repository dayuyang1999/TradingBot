{
 "cells": [
  {
   "cell_type": "code",
   "execution_count": 3,
   "metadata": {},
   "outputs": [],
   "source": [
    "import numpy as np\n",
    "import yfinance as yf\n",
    "import pandas as pd"
   ]
  },
  {
   "cell_type": "code",
   "execution_count": 5,
   "metadata": {},
   "outputs": [],
   "source": [
    "def get_data(tiker='^IXIC', start=\"2022-05-05\", which='Close', interval='1m'):\n",
    "    '''\n",
    "    get_data from yahoo finance\n",
    "    \n",
    "    # Valid periods: 1d,5d,1mo,3mo,6mo,1y,2y,5y,10y,ytd,max\n",
    "    # Valid intervals: 1m,2m,5m,15m,30m,60m,90m,1h,1d,5d,1wk,1mo,3mo\n",
    "    # see https://github.com/ranaroussi/yfinance/blob/9eef951acc70121e65825ad25e7afd2edd4c3e4b/yfinance/multi.py\n",
    "    '''\n",
    "    def reformulate_date(df):\n",
    "        df.columns = df.columns.map(''.join)\n",
    "        df = df.rename_axis('Date').reset_index()\n",
    "        return df\n",
    "    data = yf.download(tickers = tiker, start=start, interval = interval, progress=False)\n",
    "    data['pct_change'] = data[which].pct_change()\n",
    "    data['log_ret'] = np.log(data[which]) - np.log(data[which].shift(1))\n",
    "    data = reformulate_date(data)\n",
    "    #print(\"most recent date is \", data.iloc[-1, 0])\n",
    "    return data"
   ]
  },
  {
   "cell_type": "code",
   "execution_count": 8,
   "metadata": {},
   "outputs": [
    {
     "name": "stdout",
     "output_type": "stream",
     "text": [
      "\n",
      "1 Failed download:\n",
      "- ^IXIC: 1m data not available for startTime=1654056000 and endTime=1658521641. Only 7 days worth of 1m granularity data are allowed to be fetched per request.\n"
     ]
    }
   ],
   "source": [
    "df = get_data(start='2022-06-01')"
   ]
  },
  {
   "cell_type": "code",
   "execution_count": null,
   "metadata": {},
   "outputs": [],
   "source": []
  }
 ],
 "metadata": {
  "interpreter": {
   "hash": "d551d1557dc1b1b0c0ac1194b36d022bb0cb867148459cd490b02d8b5fe91186"
  },
  "kernelspec": {
   "display_name": "Python 3.9.7 ('base')",
   "language": "python",
   "name": "python3"
  },
  "language_info": {
   "codemirror_mode": {
    "name": "ipython",
    "version": 3
   },
   "file_extension": ".py",
   "mimetype": "text/x-python",
   "name": "python",
   "nbconvert_exporter": "python",
   "pygments_lexer": "ipython3",
   "version": "3.9.7"
  },
  "orig_nbformat": 4
 },
 "nbformat": 4,
 "nbformat_minor": 2
}
