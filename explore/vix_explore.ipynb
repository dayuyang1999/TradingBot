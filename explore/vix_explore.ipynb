{
 "cells": [
  {
   "cell_type": "code",
   "execution_count": 1,
   "metadata": {},
   "outputs": [],
   "source": [
    "from datetime import datetime, timedelta\n",
    "\n",
    "from tqdm import tqdm\n",
    "from pytz import timezone\n",
    "############################## create api \n",
    "\n",
    "from alpaca_trade_api.rest import REST, TimeFrame\n",
    "from alpaca_trade_api.stream import Stream\n",
    "import alpaca_trade_api as tradeapi\n",
    "\n",
    "import numpy as np\n"
   ]
  },
  {
   "cell_type": "code",
   "execution_count": 2,
   "metadata": {},
   "outputs": [],
   "source": [
    "from strategy.backtest import RollingBackTest, APISettings, BackTest\n",
    "import matplotlib.pyplot as plt\n"
   ]
  },
  {
   "cell_type": "code",
   "execution_count": 6,
   "metadata": {},
   "outputs": [],
   "source": [
    "import yfinance as yf\n"
   ]
  },
  {
   "cell_type": "code",
   "execution_count": 3,
   "metadata": {},
   "outputs": [],
   "source": [
    "def get_data(tiker='^IXIC', start=\"2022-05-05\", end=\"2022-05-06\", which='Close', interval='1m'):\n",
    "    '''\n",
    "    # Valid periods: 1d,5d,1mo,3mo,6mo,1y,2y,5y,10y,ytd,max\n",
    "    # Valid intervals: 1m,2m,5m,15m,30m,60m,90m,1h,1d,5d,1wk,1mo,3mo\n",
    "    # see https://github.com/ranaroussi/yfinance/blob/9eef951acc70121e65825ad25e7afd2edd4c3e4b/yfinance/multi.py\n",
    "    '''\n",
    "    \n",
    "    def reformulate_date(df):\n",
    "        df.columns = df.columns.map(''.join)\n",
    "        df = df.rename_axis('Date').reset_index()\n",
    "        return df\n",
    "    data = yf.download(tickers = tiker, start=start, end=end, interval = interval, progress=False)\n",
    "    data['pct_change'] = data[which].pct_change()\n",
    "    data['log_ret'] = np.log(data[which]) - np.log(data[which].shift(1))\n",
    "    data = reformulate_date(data)\n",
    "    data = data[:-1]\n",
    "    #print(\"most recent date is \", data.iloc[-1, 0])\n",
    "    return data"
   ]
  },
  {
   "cell_type": "code",
   "execution_count": 4,
   "metadata": {},
   "outputs": [
    {
     "name": "stdout",
     "output_type": "stream",
     "text": [
      "start testing...\n"
     ]
    },
    {
     "name": "stderr",
     "output_type": "stream",
     "text": [
      "100%|██████████| 28/28 [00:09<00:00,  2.94it/s]"
     ]
    },
    {
     "name": "stdout",
     "output_type": "stream",
     "text": [
      "[0.9882895791647587, 1.040272513249316, 0.9977099914457912, 0.9533185533241257, 1.0140119653240123, 1.0826133841795957, 0.9967814725535422, 0.991182159707859, 0.9659447482212924, 1.0060098484242435, 1.0152817262048959, 1.019685104945033, 1.0264556378033618, 0.995067716854567, 0.9654872366324703, 1.1386072419573439, 1.0047595091628145, 1.065696182779584, 0.9898601236187883, 1.0268809937079215, 1.0471624502405816, 1.0313669921323247, 1.0288586043784236, 0.9501563865437475, 0.9864711134970686, 0.9519070436385254, 1.009454658582931, 1.0406110195790603] \n",
      "\n",
      "[1.0000379530212924, 1.000005162916251, 0.9999268601302601, 0.9997032364446068, 1.0001508932470717, 1.000356902685451, 0.9998722265936321, 0.9999568543258887, 0.9999916630951908, 1.0001212618900748, 1.0001088732225873, 1.0000245074132523, 1.0000052791822547, 0.9998463884204472, 0.9998658663226667, 1.000326584582569, 1.0000393036807524, 1.0004264415814672, 0.9998214646769803, 1.0001612531202977, 1.000149266255747, 1.0000862977193374, 0.9999662958480356, 0.999970783003923, 1.0000124657465932, 0.9999510958795753, 0.9999051349317293, 1.0001930506902077] \n",
      "\n",
      "mean of acumulated ret:  1.0117822842090705 \n",
      "\n",
      "1.0000351202367193 \n",
      "\n"
     ]
    },
    {
     "name": "stderr",
     "output_type": "stream",
     "text": [
      "\n"
     ]
    }
   ],
   "source": [
    "start_testing_date = '2022-06-08'\n",
    "testing_length = 1\n",
    "\n",
    "class Momentum_settings:\n",
    "    '''\n",
    "    if you found it is more likely to enter \"long stage\"\n",
    "        - you should set higher threshold for short, but lower threshold for long\n",
    "    '''\n",
    "    long_buy_thres = 0\n",
    "    long_sell_thres = 0\n",
    "    short_buy_thres = 5\n",
    "    short_sell_thres = 5\n",
    "    ema_smooth_factor = 5 # long-term indicator as ema smooth factor\n",
    "    # if larger, slower track of current price, more consistent\n",
    "    dif_smooth_factor = 2 # price smooth factor for computing momentum\n",
    "    \n",
    "\n",
    "rollingbacktest = RollingBackTest(\n",
    "    Momentum_settings(),\n",
    "    APISettings(),\n",
    "    'momentum',\n",
    "    start_testing_date,\n",
    "    testing_length,\n",
    "    '^IXIC',\n",
    "    'TQQQ',\n",
    "    'SQQQ',\n",
    "    '2m',\n",
    "    False\n",
    ")\n",
    "\n",
    "print(rollingbacktest.total_rets, '\\n')\n",
    "\n",
    "print(rollingbacktest.rets_noncomp, '\\n')\n",
    "\n",
    "print('mean of acumulated ret: ', np.mean(rollingbacktest.total_rets), '\\n')\n",
    "\n",
    "print(np.mean(rollingbacktest.rets_noncomp), '\\n')\n"
   ]
  },
  {
   "cell_type": "code",
   "execution_count": 13,
   "metadata": {},
   "outputs": [],
   "source": [
    "today = '2022-07-21'\n",
    "df_vix = get_data(tiker='^VIX', start='2022-06-08', end= today, interval='1d')"
   ]
  },
  {
   "cell_type": "code",
   "execution_count": 14,
   "metadata": {},
   "outputs": [],
   "source": [
    "df_vix['avg'] = (df_vix['High'] + df_vix['Low'])/2"
   ]
  },
  {
   "cell_type": "code",
   "execution_count": 15,
   "metadata": {},
   "outputs": [],
   "source": [
    "vix = df_vix['avg'].values"
   ]
  },
  {
   "cell_type": "code",
   "execution_count": 16,
   "metadata": {},
   "outputs": [
    {
     "data": {
      "text/plain": [
       "28"
      ]
     },
     "execution_count": 16,
     "metadata": {},
     "output_type": "execute_result"
    }
   ],
   "source": [
    "len(vix)"
   ]
  },
  {
   "cell_type": "code",
   "execution_count": 12,
   "metadata": {},
   "outputs": [
    {
     "data": {
      "text/plain": [
       "28"
      ]
     },
     "execution_count": 12,
     "metadata": {},
     "output_type": "execute_result"
    }
   ],
   "source": [
    "len(rollingbacktest.total_rets)"
   ]
  },
  {
   "cell_type": "code",
   "execution_count": 21,
   "metadata": {},
   "outputs": [
    {
     "data": {
      "text/plain": [
       "<matplotlib.legend.Legend at 0x7f1a405e7940>"
      ]
     },
     "execution_count": 21,
     "metadata": {},
     "output_type": "execute_result"
    },
    {
     "data": {
      "image/png": "[encoded data removed]",
      "text/plain": [
       "<Figure size 432x288 with 2 Axes>"
      ]
     },
     "metadata": {
      "needs_background": "light"
     },
     "output_type": "display_data"
    }
   ],
   "source": [
    "fig, ax = plt.subplots()\n",
    "plt.plot(vix, '--r', label='Line a')\n",
    "#ax.tick_params('vals', colors='r')\n",
    "\n",
    "# Get second axis\n",
    "ax2 = ax.twinx()\n",
    "plt.plot(rollingbacktest.total_rets, '--b', label='return')\n",
    "plt.legend()\n",
    "#ax.tick_params('vals', colors='b')"
   ]
  },
  {
   "cell_type": "code",
   "execution_count": null,
   "metadata": {},
   "outputs": [],
   "source": []
  }
 ],
 "metadata": {
  "interpreter": {
   "hash": "d551d1557dc1b1b0c0ac1194b36d022bb0cb867148459cd490b02d8b5fe91186"
  },
  "kernelspec": {
   "display_name": "Python 3.9.7 ('anaconda3': virtualenv)",
   "language": "python",
   "name": "python3"
  },
  "language_info": {
   "codemirror_mode": {
    "name": "ipython",
    "version": 3
   },
   "file_extension": ".py",
   "mimetype": "text/x-python",
   "name": "python",
   "nbconvert_exporter": "python",
   "pygments_lexer": "ipython3",
   "version": "3.9.7"
  },
  "orig_nbformat": 4
 },
 "nbformat": 4,
 "nbformat_minor": 2
}
